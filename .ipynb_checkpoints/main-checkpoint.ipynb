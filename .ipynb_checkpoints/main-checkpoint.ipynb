{
 "cells": [
  {
   "cell_type": "code",
   "execution_count": 7,
   "metadata": {
    "collapsed": true,
    "pycharm": {
     "name": "#%%\n"
    }
   },
   "outputs": [],
   "source": [
    "import numpy as np\n",
    "import pandas as pd\n",
    "import matplotlib.pyplot as plt\n",
    "from typing import Tuple"
   ]
  },
  {
   "cell_type": "code",
   "execution_count": 3,
   "metadata": {
    "pycharm": {
     "name": "#%%\n"
    }
   },
   "outputs": [],
   "source": [
    "data = pd.read_csv(\"./data/train.csv\")\n",
    "test_data = pd.read_csv(\"./data/test.csv\")"
   ]
  },
  {
   "cell_type": "code",
   "execution_count": 4,
   "metadata": {
    "pycharm": {
     "name": "#%%\n"
    }
   },
   "outputs": [],
   "source": [
    "data = np.array(data)\n",
    "np.random.shuffle(data)\n",
    "m, n = data.shape\n",
    "\n",
    "data_dev = data[0:1000].T\n",
    "Y_dev = data_dev[0]\n",
    "X_dev = data_dev[1:n]\n",
    "\n",
    "data_train = data[1000:m].T\n",
    "Y_train = data_train[0]\n",
    "X_train = data_train[1:n]\n"
   ]
  },
  {
   "cell_type": "code",
   "execution_count": 5,
   "metadata": {
    "pycharm": {
     "name": "#%%\n"
    }
   },
   "outputs": [
    {
     "data": {
      "text/plain": [
       "(784,)"
      ]
     },
     "execution_count": 5,
     "metadata": {},
     "output_type": "execute_result"
    }
   ],
   "source": [
    "X_train[:, 0].shape"
   ]
  },
  {
   "cell_type": "code",
   "execution_count": 6,
   "metadata": {
    "pycharm": {
     "name": "#%%\n"
    }
   },
   "outputs": [
    {
     "data": {
      "text/plain": [
       "array([[ 0.13403938, -0.04894994,  0.25932627, ...,  0.25927068,\n",
       "         0.26644841,  0.03711327],\n",
       "       [-0.23859264, -0.40338479,  0.13115472, ..., -0.0057702 ,\n",
       "         0.24858683, -0.30566598],\n",
       "       [-0.05187798,  0.16159056,  0.47428459, ...,  0.44463441,\n",
       "         0.03704742, -0.25316393],\n",
       "       ...,\n",
       "       [ 0.09731179, -0.48659916,  0.33090017, ..., -0.02448677,\n",
       "        -0.38902439, -0.36708109],\n",
       "       [ 0.31363213,  0.35268587, -0.16111288, ...,  0.27979718,\n",
       "         0.05926338,  0.09970102],\n",
       "       [-0.47475961, -0.31607948, -0.49692781, ..., -0.26457206,\n",
       "        -0.18595674,  0.42865853]])"
      ]
     },
     "execution_count": 6,
     "metadata": {},
     "output_type": "execute_result"
    }
   ],
   "source": [
    "x = np.random.uniform(-0.5, 0.5, (20, 784))\n",
    "x.T"
   ]
  },
  {
   "cell_type": "code",
   "execution_count": 32,
   "metadata": {
    "pycharm": {
     "name": "#%%\n"
    }
   },
   "outputs": [
    {
     "name": "stdout",
     "output_type": "stream",
     "text": [
      "(10, 784)\n",
      "(24, 10)\n",
      "(3, 24)\n"
     ]
    }
   ],
   "source": [
    "def init_weights(nbr_input: int, nbr_neuron):\n",
    "    weights = []\n",
    "    weights.append(np.array(np.random.uniform(-0.5, 0.5, (nbr_neuron[0], nbr_input))))\n",
    "    for i in range(1, len(nbr_neuron)):\n",
    "        weights.append(np.array(np.random.uniform(-0.5, 0.5, (nbr_neuron[i], nbr_neuron[i - 1]))))\n",
    "    return weights\n",
    "\n",
    "\n",
    "W = init_weights(784, (10, 24, 3))\n",
    "for i in W:\n",
    "    print(i.shape)"
   ]
  },
  {
   "cell_type": "code",
   "execution_count": null,
   "metadata": {
    "pycharm": {
     "name": "#%%\n"
    }
   },
   "outputs": [],
   "source": []
  }
 ],
 "metadata": {
  "kernelspec": {
   "display_name": "Python 3 (ipykernel)",
   "language": "python",
   "name": "python3"
  },
  "language_info": {
   "codemirror_mode": {
    "name": "ipython",
    "version": 3
   },
   "file_extension": ".py",
   "mimetype": "text/x-python",
   "name": "python",
   "nbconvert_exporter": "python",
   "pygments_lexer": "ipython3",
   "version": "3.7.9"
  }
 },
 "nbformat": 4,
 "nbformat_minor": 1
}
